{
 "cells": [
  {
   "cell_type": "markdown",
   "id": "b10b247d-3527-4953-abe1-193a975c24bf",
   "metadata": {},
   "source": [
    "# Create InvenioRDM package\n",
    "\n",
    "We will use now the data we have parsed from Astropedia in notebook `astropedia_product_parse` to create a package on our invenio-rdm instance.\n",
    "\n",
    "- https://astrogeology.usgs.gov/search/map/Moon/Geology/Unified_Geologic_Map_of_the_Moon_GIS_v2.xml\n",
    "- https://inveniordm.docs.cern.ch/install/run/\n"
   ]
  },
  {
   "cell_type": "code",
   "execution_count": 1,
   "id": "5fe1f404-28ec-4bf4-bd1c-3ea5c67d259a",
   "metadata": {},
   "outputs": [
    {
     "name": "stdout",
     "output_type": "stream",
     "text": [
      "env: IRDM_HOSTNAME=10.72.2.28\n",
      "env: IRDM_USER_TOKEN=I1c9WD9pPW3lHUW2HsBhIHhTvgQse7DZNxmXIrgLs0ijdQTUxWwKR1xGuncN\n"
     ]
    }
   ],
   "source": [
    "%env IRDM_HOSTNAME=10.72.2.28\n",
    "%env IRDM_USER_TOKEN=I1c9WD9pPW3lHUW2HsBhIHhTvgQse7DZNxmXIrgLs0ijdQTUxWwKR1xGuncN\n",
    "# %env IRDM_HOSTNAME=data.europlanet-gmap.eu\n",
    "# %env IRDM_USER_TOKEN=RFpFvUl8m2PWnjhqdzd9tPkw4tZruNrgC032wyrhmf2G8iOxSC2y8S7WiZ4g"
   ]
  },
  {
   "cell_type": "code",
   "execution_count": 2,
   "id": "92bd5328-ec03-443a-b16d-70291766c63e",
   "metadata": {},
   "outputs": [],
   "source": [
    "# Create client for our instance. \n",
    "# If we would only read, there is no need for token.\n",
    "# If we want to create/update records, we need a token;\n",
    "# To get a token, you go to your (Invenio) user's profile, in \"Application\", and get a token;\n",
    "# See https://inveniordm.docs.cern.ch/reference/rest_api_index/ for further details.\n",
    "\n",
    "import os\n",
    "hostname = os.environ.get('IRDM_HOSTNAME')\n",
    "token = os.environ.get('IRDM_USER_TOKEN')"
   ]
  },
  {
   "cell_type": "code",
   "execution_count": 3,
   "id": "96f43c8c-3948-4451-9967-968682fd361d",
   "metadata": {},
   "outputs": [],
   "source": [
    "import api\n",
    "\n",
    "from importlib import reload\n",
    "reload(api);"
   ]
  },
  {
   "cell_type": "code",
   "execution_count": 4,
   "id": "285ef17e-5bbc-4967-9100-764c2f74d36a",
   "metadata": {},
   "outputs": [],
   "source": [
    "client = api.InvenioClient(hostname, token)"
   ]
  },
  {
   "cell_type": "code",
   "execution_count": 5,
   "id": "a5547c57-9123-4746-ac51-fa6a2503f206",
   "metadata": {},
   "outputs": [
    {
     "name": "stderr",
     "output_type": "stream",
     "text": [
      "/opt/miniconda3/lib/python3.8/site-packages/urllib3/connectionpool.py:1013: InsecureRequestWarning: Unverified HTTPS request is being made to host '10.72.2.28'. Adding certificate verification is strongly advised. See: https://urllib3.readthedocs.io/en/1.26.x/advanced-usage.html#ssl-warnings\n",
      "  warnings.warn(\n"
     ]
    },
    {
     "data": {
      "text/plain": [
       "{'id': 't6bzc-fne07',\n",
       " 'revision_id': 3,\n",
       " 'is_published': True,\n",
       " 'versions': {'index': 1, 'is_latest_draft': True, 'is_latest': True},\n",
       " 'access': {'status': 'open',\n",
       "  'files': 'public',\n",
       "  'record': 'public',\n",
       "  'embargo': {'active': False, 'reason': None}},\n",
       " 'parent': {'id': '6kgxd-5ne91',\n",
       "  'access': {'links': [], 'owned_by': [{'user': 2}]}},\n",
       " 'files': {'enabled': True, 'order': []},\n",
       " 'metadata': {'creators': [{'person_or_org': {'given_name': 'C.M.',\n",
       "     'type': 'personal',\n",
       "     'name': 'Fortezzo, C.M.',\n",
       "     'family_name': 'Fortezzo'}},\n",
       "   {'person_or_org': {'given_name': 'P. D.',\n",
       "     'type': 'personal',\n",
       "     'name': 'Spudis, P. D.',\n",
       "     'family_name': 'Spudis'}},\n",
       "   {'person_or_org': {'given_name': 'S. L.',\n",
       "     'type': 'personal',\n",
       "     'name': 'Harrel, S. L.',\n",
       "     'family_name': 'Harrel'}}],\n",
       "  'description': 'This new work represents a seamless, globally consistent, 1:5,000,000-scale geologic map derived from  the six digitally renovated geologic maps (see Source Online Linkage below). The goal of this project was to create a digital resource for science research and analysis, future geologic mapping efforts, be it local-, regional-, or global-scale products, and as a resource for the educators and the public interested in lunar geology. Here we present the completed mapping  project as unit contacts, geologic unit polygons, linear features, and unit and feature nomenclature  annotation. The product overlies shaded-relief products derived from SELENE Kaguya terrain camera stereo  (equatorial, ~60 m/pix) and LOLA altimetry (north and south polar, 100 m/pix). These data are not  included with this download due to size considerations, but a readme in the \"Lunar_Raster\" folder  provides the download links. This download page includes a PDF of the geologic map (right-side) with a brief Description  of Map Units and Explanation of Map Symbols, as well as a JPG of the map for quick access viewing.  This release is subject to update based on community feedback and peer-review.<br><p><b>Version 2 updates</b>: Two errors were addressed in this update:(1) Large area polygons were offset from their contacts, likely due to user error. Polygons were rebuilt to fix the issue and post processing (dissolving, reattributing, etc.) to rectify the aesthetic of the map. (2) Contacts were not visible but should have been due to incorrect labeling as DND (do not draw). Those that needed to be drawn have been reattributed as \"certain\" those that are not drawn are labeled as \"internal\".   Additionally, in version 1 of this data, crater polygons with similar attributes had been dissolved and lumped into contiguous units. This has been changed so that all craters are now discrete units. This adds ~1000 units to the GeoUnits featureclass and the related contacts are now visible and labeled as \"certain\".  <br></p><p><b>References:</b><br>Fortezzo, C.M., Spudis, P. D. and Harrel, S. L. (2020). <em>Release of the Digital Unified Global Geologic Map of the Moon At 1:5,000,000- Scale.</em> Paper presented at the 51st Lunar and Planetary Science Conference, Lunar and Planetary Institute, Houston, TX. <a href=\"https://www.hou.usra.edu/meetings/lpsc2020/pdf/2760.pdf\">https://www.hou.usra.edu/meetings/lpsc2020/pdf/2760.pdf</a></p><p><b>Extra:</b></p><ul><li>Bounding-Box:<ul><li>westlon = -180.0, eastlon = 180.0, minlat = -90.0, maxlat = 90.0</li></ul></li><li>Product Page:<ul><li><a href=\"https://astrogeology.usgs.gov/search/map/Moon/Geology/Unified_Geologic_Map_of_the_Moon_GIS_v2\">https://astrogeology.usgs.gov/search/map/Moon/Geology/Unified_Geologic_Map_of_the_Moon_GIS_v2</a></li></ul></li></ul>',\n",
       "  'publisher': 'USGS Astrogeology Science Center',\n",
       "  'publication_date': '2020-03-03',\n",
       "  'identifiers': [{'scheme': 'url',\n",
       "    'identifier': 'https://astrogeology.usgs.gov/search/map/Moon/Geology/Unified_Geologic_Map_of_the_Moon_GIS_v2'}],\n",
       "  'title': 'Unified Geologic Map of the Moon, 1:5M, 2020',\n",
       "  'resource_type': {'id': 'dataset', 'title': {'en': 'Dataset'}}},\n",
       " 'pids': {},\n",
       " 'links': {'self': 'https://10.72.2.28/api/records/t6bzc-fne07',\n",
       "  'self_html': 'https://10.72.2.28/records/t6bzc-fne07',\n",
       "  'self_doi': 'https://10.72.2.28/doi/',\n",
       "  'files': 'https://10.72.2.28/api/records/t6bzc-fne07/files',\n",
       "  'latest': 'https://10.72.2.28/api/records/t6bzc-fne07/versions/latest',\n",
       "  'latest_html': 'https://10.72.2.28/records/t6bzc-fne07/latest',\n",
       "  'draft': 'https://10.72.2.28/api/records/t6bzc-fne07/draft',\n",
       "  'versions': 'https://10.72.2.28/api/records/t6bzc-fne07/versions',\n",
       "  'access_links': 'https://10.72.2.28/api/records/t6bzc-fne07/access/links',\n",
       "  'reserve_doi': 'https://10.72.2.28/api/records/t6bzc-fne07/draft/pids/doi'},\n",
       " 'updated': '2022-04-21T10:48:03.072342+00:00',\n",
       " 'created': '2022-04-21T10:48:02.997437+00:00'}"
      ]
     },
     "execution_count": 5,
     "metadata": {},
     "output_type": "execute_result"
    }
   ],
   "source": [
    "# Let's just read all the records for a basic check/view\n",
    "\n",
    "res = client.read_records()\n",
    "\n",
    "res.records[0]"
   ]
  },
  {
   "cell_type": "code",
   "execution_count": 6,
   "id": "7db65a40-7d5e-4f60-bd71-bbc5611ea446",
   "metadata": {},
   "outputs": [],
   "source": [
    "# Load \"our\" metadata (extracted from Astropedia in notebook \"astropedia_product_parse\".\n",
    "# Then, create an Invencio payload/package\n",
    "\n",
    "import json\n",
    "\n",
    "with open('Unified_Geologic_Map_of_the_Moon_GIS_v2_OurMeta.json') as fp:\n",
    "    js = json.load(fp)\n",
    "\n",
    "data = api.InvenioAstropedia(**js)\n",
    "\n",
    "# data.asdict()"
   ]
  },
  {
   "cell_type": "code",
   "execution_count": 7,
   "id": "df13c0dc-6124-4c45-99fb-108056b0e815",
   "metadata": {},
   "outputs": [
    {
     "name": "stderr",
     "output_type": "stream",
     "text": [
      "/opt/miniconda3/lib/python3.8/site-packages/urllib3/connectionpool.py:1013: InsecureRequestWarning: Unverified HTTPS request is being made to host '10.72.2.28'. Adding certificate verification is strongly advised. See: https://urllib3.readthedocs.io/en/1.26.x/advanced-usage.html#ssl-warnings\n",
      "  warnings.warn(\n",
      "/opt/miniconda3/lib/python3.8/site-packages/urllib3/connectionpool.py:1013: InsecureRequestWarning: Unverified HTTPS request is being made to host '10.72.2.28'. Adding certificate verification is strongly advised. See: https://urllib3.readthedocs.io/en/1.26.x/advanced-usage.html#ssl-warnings\n",
      "  warnings.warn(\n",
      "/opt/miniconda3/lib/python3.8/site-packages/urllib3/connectionpool.py:1013: InsecureRequestWarning: Unverified HTTPS request is being made to host '10.72.2.28'. Adding certificate verification is strongly advised. See: https://urllib3.readthedocs.io/en/1.26.x/advanced-usage.html#ssl-warnings\n",
      "  warnings.warn(\n",
      "/opt/miniconda3/lib/python3.8/site-packages/urllib3/connectionpool.py:1013: InsecureRequestWarning: Unverified HTTPS request is being made to host '10.72.2.28'. Adding certificate verification is strongly advised. See: https://urllib3.readthedocs.io/en/1.26.x/advanced-usage.html#ssl-warnings\n",
      "  warnings.warn(\n",
      "/opt/miniconda3/lib/python3.8/site-packages/urllib3/connectionpool.py:1013: InsecureRequestWarning: Unverified HTTPS request is being made to host '10.72.2.28'. Adding certificate verification is strongly advised. See: https://urllib3.readthedocs.io/en/1.26.x/advanced-usage.html#ssl-warnings\n",
      "  warnings.warn(\n",
      "/opt/miniconda3/lib/python3.8/site-packages/urllib3/connectionpool.py:1013: InsecureRequestWarning: Unverified HTTPS request is being made to host '10.72.2.28'. Adding certificate verification is strongly advised. See: https://urllib3.readthedocs.io/en/1.26.x/advanced-usage.html#ssl-warnings\n",
      "  warnings.warn(\n",
      "/opt/miniconda3/lib/python3.8/site-packages/urllib3/connectionpool.py:1013: InsecureRequestWarning: Unverified HTTPS request is being made to host '10.72.2.28'. Adding certificate verification is strongly advised. See: https://urllib3.readthedocs.io/en/1.26.x/advanced-usage.html#ssl-warnings\n",
      "  warnings.warn(\n"
     ]
    }
   ],
   "source": [
    "# Create record (draft)\n",
    "\n",
    "res_draft = client.create_draft(data)\n",
    "\n",
    "# res_draft"
   ]
  },
  {
   "cell_type": "code",
   "execution_count": 8,
   "id": "4105bb14-4dc9-4a02-9797-436bb3280828",
   "metadata": {},
   "outputs": [
    {
     "name": "stderr",
     "output_type": "stream",
     "text": [
      "/opt/miniconda3/lib/python3.8/site-packages/urllib3/connectionpool.py:1013: InsecureRequestWarning: Unverified HTTPS request is being made to host '10.72.2.28'. Adding certificate verification is strongly advised. See: https://urllib3.readthedocs.io/en/1.26.x/advanced-usage.html#ssl-warnings\n",
      "  warnings.warn(\n"
     ]
    },
    {
     "data": {
      "text/plain": [
       "{'id': '50b76-xgm53',\n",
       " 'revision_id': 3,\n",
       " 'is_published': True,\n",
       " 'versions': {'index': 1, 'is_latest_draft': True, 'is_latest': True},\n",
       " 'access': {'status': 'open',\n",
       "  'files': 'public',\n",
       "  'record': 'public',\n",
       "  'embargo': {'active': False, 'reason': None}},\n",
       " 'parent': {'id': '0e24c-nk670',\n",
       "  'access': {'links': [], 'owned_by': [{'user': 2}]}},\n",
       " 'files': {'enabled': True, 'order': []},\n",
       " 'metadata': {'creators': [{'person_or_org': {'given_name': 'C.M.',\n",
       "     'type': 'personal',\n",
       "     'name': 'Fortezzo, C.M.',\n",
       "     'family_name': 'Fortezzo'}},\n",
       "   {'person_or_org': {'given_name': 'P. D.',\n",
       "     'type': 'personal',\n",
       "     'name': 'Spudis, P. D.',\n",
       "     'family_name': 'Spudis'}},\n",
       "   {'person_or_org': {'given_name': 'S. L.',\n",
       "     'type': 'personal',\n",
       "     'name': 'Harrel, S. L.',\n",
       "     'family_name': 'Harrel'}}],\n",
       "  'description': 'This new work represents a seamless, globally consistent, 1:5,000,000-scale geologic map derived from  the six digitally renovated geologic maps (see Source Online Linkage below). The goal of this project was to create a digital resource for science research and analysis, future geologic mapping efforts, be it local-, regional-, or global-scale products, and as a resource for the educators and the public interested in lunar geology. Here we present the completed mapping  project as unit contacts, geologic unit polygons, linear features, and unit and feature nomenclature  annotation. The product overlies shaded-relief products derived from SELENE Kaguya terrain camera stereo  (equatorial, ~60 m/pix) and LOLA altimetry (north and south polar, 100 m/pix). These data are not  included with this download due to size considerations, but a readme in the \"Lunar_Raster\" folder  provides the download links. This download page includes a PDF of the geologic map (right-side) with a brief Description  of Map Units and Explanation of Map Symbols, as well as a JPG of the map for quick access viewing.  This release is subject to update based on community feedback and peer-review.<br><p><b>Version 2 updates</b>: Two errors were addressed in this update:(1) Large area polygons were offset from their contacts, likely due to user error. Polygons were rebuilt to fix the issue and post processing (dissolving, reattributing, etc.) to rectify the aesthetic of the map. (2) Contacts were not visible but should have been due to incorrect labeling as DND (do not draw). Those that needed to be drawn have been reattributed as \"certain\" those that are not drawn are labeled as \"internal\".   Additionally, in version 1 of this data, crater polygons with similar attributes had been dissolved and lumped into contiguous units. This has been changed so that all craters are now discrete units. This adds ~1000 units to the GeoUnits featureclass and the related contacts are now visible and labeled as \"certain\".  <br></p><p><b>References:</b><br>Fortezzo, C.M., Spudis, P. D. and Harrel, S. L. (2020). <em>Release of the Digital Unified Global Geologic Map of the Moon At 1:5,000,000- Scale.</em> Paper presented at the 51st Lunar and Planetary Science Conference, Lunar and Planetary Institute, Houston, TX. <a href=\"https://www.hou.usra.edu/meetings/lpsc2020/pdf/2760.pdf\">https://www.hou.usra.edu/meetings/lpsc2020/pdf/2760.pdf</a></p><p><b>Extra:</b></p><ul><li>Bounding-Box:<ul><li>westlon = -180.0, eastlon = 180.0, minlat = -90.0, maxlat = 90.0</li></ul></li><li>Product Page:<ul><li><a href=\"https://astrogeology.usgs.gov/search/map/Moon/Geology/Unified_Geologic_Map_of_the_Moon_GIS_v2\">https://astrogeology.usgs.gov/search/map/Moon/Geology/Unified_Geologic_Map_of_the_Moon_GIS_v2</a></li></ul></li></ul>',\n",
       "  'publisher': 'USGS Astrogeology Science Center',\n",
       "  'publication_date': '2020-03-03',\n",
       "  'identifiers': [{'scheme': 'url',\n",
       "    'identifier': 'https://astrogeology.usgs.gov/search/map/Moon/Geology/Unified_Geologic_Map_of_the_Moon_GIS_v2'}],\n",
       "  'title': 'Unified Geologic Map of the Moon, 1:5M, 2020',\n",
       "  'resource_type': {'id': 'dataset', 'title': {'en': 'Dataset'}}},\n",
       " 'pids': {},\n",
       " 'links': {'self': 'https://10.72.2.28/api/records/50b76-xgm53',\n",
       "  'self_html': 'https://10.72.2.28/records/50b76-xgm53',\n",
       "  'self_doi': 'https://10.72.2.28/doi/',\n",
       "  'files': 'https://10.72.2.28/api/records/50b76-xgm53/files',\n",
       "  'latest': 'https://10.72.2.28/api/records/50b76-xgm53/versions/latest',\n",
       "  'latest_html': 'https://10.72.2.28/records/50b76-xgm53/latest',\n",
       "  'draft': 'https://10.72.2.28/api/records/50b76-xgm53/draft',\n",
       "  'versions': 'https://10.72.2.28/api/records/50b76-xgm53/versions',\n",
       "  'access_links': 'https://10.72.2.28/api/records/50b76-xgm53/access/links',\n",
       "  'reserve_doi': 'https://10.72.2.28/api/records/50b76-xgm53/draft/pids/doi'},\n",
       " 'updated': '2022-04-21T10:49:44.696645+00:00',\n",
       " 'created': '2022-04-21T10:49:44.619417+00:00'}"
      ]
     },
     "execution_count": 8,
     "metadata": {},
     "output_type": "execute_result"
    }
   ],
   "source": [
    "res_record = client.publish_draft(res_draft['id'])\n",
    "res_record"
   ]
  },
  {
   "cell_type": "code",
   "execution_count": 9,
   "id": "803d1027-5435-4318-9079-17f6cbf1ad12",
   "metadata": {},
   "outputs": [
    {
     "data": {
      "text/plain": [
       "True"
      ]
     },
     "execution_count": 9,
     "metadata": {},
     "output_type": "execute_result"
    }
   ],
   "source": [
    "# Open a browser tab at just-created record\n",
    "\n",
    "import webbrowser\n",
    "\n",
    "url = res_record['links']['self_html']\n",
    "webbrowser.open(url)"
   ]
  },
  {
   "cell_type": "code",
   "execution_count": null,
   "id": "da9a5677-0ebf-4569-b168-5713dc0b6f7e",
   "metadata": {},
   "outputs": [],
   "source": []
  }
 ],
 "metadata": {
  "kernelspec": {
   "display_name": "Python 3 (ipykernel)",
   "language": "python",
   "name": "python3"
  },
  "language_info": {
   "codemirror_mode": {
    "name": "ipython",
    "version": 3
   },
   "file_extension": ".py",
   "mimetype": "text/x-python",
   "name": "python",
   "nbconvert_exporter": "python",
   "pygments_lexer": "ipython3",
   "version": "3.10.5"
  }
 },
 "nbformat": 4,
 "nbformat_minor": 5
}
