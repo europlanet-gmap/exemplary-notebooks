{
  "cells": [
    {
      "cell_type": "markdown",
      "source": [
        "# Title\n",
        "The title of the notebook should be coherent with file name.\n",
        "\n",
        "State the purpose of the notebook. Highlight _keypoints_ the notebook addresses or exposes.\n",
        "\n",
        "## Methodology\n",
        "Quickly describe assumptions and processing steps.\n",
        "\n",
        "### Data requirements\n",
        "List the data products or data sets in use.\n",
        "\n",
        "### Software requirements\n",
        "List software tools, suites necessary.\n",
        "Specify versions whenever possible.\n",
        "\n",
        "<hr>\n",
        "\n",
        "## References\n",
        "List the references. Yes, references at the top!\n",
        "\n",
        "- other notebooks\n",
        "- online resources\n",
        "- articles\n",
        "- software\n",
        "- data archives\n"
      ],
      "metadata": {}
    },
    {
      "cell_type": "markdown",
      "source": [
        "# Setup\n",
        "\n",
        "Load and define all packages, settings, constants that will be used throught the notebook. The idea is to remove noisy statements from the body of the workflow.\n",
        "\n",
        "## Packages\n",
        "- Import top-level modules/packages\n",
        "- Set warnings and log verbosity\n",
        "- Set visualization attributes\n",
        "\n",
        "## Variables\n",
        "Set all variables like paths, filenames, string-templates, etc."
      ],
      "metadata": {}
    },
    {
      "cell_type": "code",
      "source": [
        "# For example:\n",
        "# ------------\n",
        "\n",
        "# Remote resource\n",
        "import requests\n",
        "\n",
        "# Data manipulation\n",
        "import pandas as pd\n",
        "import numpy as np\n",
        "\n",
        "# Options for pandas\n",
        "pd.options.display.max_columns = 50\n",
        "pd.options.display.max_rows = 30\n",
        "\n",
        "# Visualizations\n",
        "import matplotlib as mpl\n",
        "\n",
        "# Options for matplotlib\n",
        "mpl.rcParams[\"figure.figsize\"] = (12,8)\n",
        "mpl.rcParams['figure.dpi'] = 300\n",
        "\n",
        "%matplotlib inline\n"
      ],
      "outputs": [
        {
          "output_type": "display_data",
          "data": {
            "text/html": "        <script type=\"text/javascript\">\n        window.PlotlyConfig = {MathJaxConfig: 'local'};\n        if (window.MathJax) {MathJax.Hub.Config({SVG: {font: \"STIX-Web\"}});}\n        if (typeof require !== 'undefined') {\n        require.undef(\"plotly\");\n        requirejs.config({\n            paths: {\n                'plotly': ['https://cdn.plot.ly/plotly-latest.min']\n            }\n        });\n        require(['plotly'], function(Plotly) {\n            window._Plotly = Plotly;\n        });\n        }\n        </script>\n        "
          },
          "metadata": {}
        },
        {
          "output_type": "display_data",
          "data": {
            "text/html": "        <script type=\"text/javascript\">\n        window.PlotlyConfig = {MathJaxConfig: 'local'};\n        if (window.MathJax) {MathJax.Hub.Config({SVG: {font: \"STIX-Web\"}});}\n        if (typeof require !== 'undefined') {\n        require.undef(\"plotly\");\n        requirejs.config({\n            paths: {\n                'plotly': ['https://cdn.plot.ly/plotly-latest.min']\n            }\n        });\n        require(['plotly'], function(Plotly) {\n            window._Plotly = Plotly;\n        });\n        }\n        </script>\n        "
          },
          "metadata": {}
        }
      ],
      "execution_count": 1,
      "metadata": {
        "ExecuteTime": {
          "end_time": "2019-06-16T14:44:50.874881Z",
          "start_time": "2019-06-16T14:44:38.616867Z"
        }
      }
    },
    {
      "cell_type": "markdown",
      "source": [
        "\n",
        "# Data import\n",
        "We retrieve all the required data for the analysis."
      ],
      "metadata": {}
    },
    {
      "cell_type": "markdown",
      "source": [
        "# Data processing\n",
        "Put here the core of the notebook. Feel free to further split this section into subsections."
      ],
      "metadata": {}
    },
    {
      "cell_type": "markdown",
      "source": [
        "> _If the notebook is complete, write a `Conclusion` section. If the work is still in progress, write a `WIP` section._\n",
        "\n",
        "## WIP\n",
        "Use this section only if the notebook is not final.\n",
        "Let the reader/colleague know _why_, what is missing for the notebook to be _complete_.\n",
        "\n",
        "## Conclusion\n",
        "Describe and comment the most important results.\n"
      ],
      "metadata": {}
    },
    {
      "cell_type": "code",
      "source": [
        "\n"
      ],
      "outputs": [],
      "execution_count": null,
      "metadata": {}
    }
  ],
  "metadata": {
    "kernelspec": {
      "display_name": "Python 3",
      "language": "python",
      "name": "python3"
    },
    "language_info": {
      "name": "python",
      "version": "3.8.10",
      "mimetype": "text/x-python",
      "codemirror_mode": {
        "name": "ipython",
        "version": 3
      },
      "pygments_lexer": "ipython3",
      "nbconvert_exporter": "python",
      "file_extension": ".py"
    },
    "toc": {
      "toc_position": {},
      "skip_h1_title": false,
      "number_sections": true,
      "title_cell": "Table of Contents",
      "toc_window_display": false,
      "base_numbering": 1,
      "toc_section_display": true,
      "title_sidebar": "Contents",
      "toc_cell": false,
      "nav_menu": {},
      "sideBar": true
    },
    "varInspector": {
      "cols": {
        "lenName": 16,
        "lenType": 16,
        "lenVar": 40
      },
      "kernels_config": {
        "python": {
          "delete_cmd_postfix": "",
          "delete_cmd_prefix": "del ",
          "library": "var_list.py",
          "varRefreshCmd": "print(var_dic_list())"
        },
        "r": {
          "delete_cmd_postfix": ") ",
          "delete_cmd_prefix": "rm(",
          "library": "var_list.r",
          "varRefreshCmd": "cat(var_dic_list()) "
        }
      },
      "types_to_exclude": [
        "module",
        "function",
        "builtin_function_or_method",
        "instance",
        "_Feature"
      ],
      "window_display": false
    },
    "pycharm": {
      "stem_cell": {
        "cell_type": "raw",
        "source": [],
        "metadata": {
          "collapsed": false
        }
      }
    },
    "nteract": {
      "version": "0.28.0"
    }
  },
  "nbformat": 4,
  "nbformat_minor": 2
}