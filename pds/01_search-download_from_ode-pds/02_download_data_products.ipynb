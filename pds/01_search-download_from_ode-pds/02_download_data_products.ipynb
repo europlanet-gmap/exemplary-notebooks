{
 "cells": [
  {
   "cell_type": "markdown",
   "metadata": {},
   "source": [
    "# Download (image) data products from ODE/PDS data bases\n",
    "\n",
    "Now that we have searched for some data products, and eventually saved the search results in a GeoJSON file -- `search.geojson` -- let's download those images."
   ]
  },
  {
   "cell_type": "code",
   "execution_count": 1,
   "metadata": {},
   "outputs": [],
   "source": [
    "from gpt.download import sources, download\n",
    "\n",
    "from importlib import reload"
   ]
  },
  {
   "cell_type": "markdown",
   "metadata": {},
   "source": [
    "## Download CTX data"
   ]
  },
  {
   "cell_type": "code",
   "execution_count": 2,
   "metadata": {},
   "outputs": [],
   "source": [
    "reload(sources)\n",
    "\n",
    "dataset = 'ctx'"
   ]
  },
  {
   "cell_type": "code",
   "execution_count": 3,
   "metadata": {},
   "outputs": [],
   "source": [
    "ode_results = f'search_{dataset}.geojson'\n",
    "\n",
    "ode_prods = sources.from_geojson(ode_results)"
   ]
  },
  {
   "cell_type": "code",
   "execution_count": 4,
   "metadata": {},
   "outputs": [
    {
     "name": "stdout",
     "output_type": "stream",
     "text": [
      "File './data/MRO/CTX/EDR/P16_007361_1800_XN_00S000W.IMG' from 'https://pds-imaging.jpl.nasa.gov/data/mro/mars_reconnaissance_orbiter/ctx/mrox_0433/data/P16_007361_1800_XN_00S000W.IMG' already downloaded\n",
      "File './data/MRO/CTX/EDR/P16_007361_1800_XN_00S000W.IMG.jpeg' from 'https://pds-imaging.jpl.nasa.gov/data/mro/mars_reconnaissance_orbiter/ctx/mrox_0433/extras/browse/P16_007361_1800_XN_00S000W.IMG.jpeg' already downloaded\n",
      "File './data/MRO/CTX/EDR/F23_044876_1800_XN_00S359W.IMG' from 'https://pds-imaging.jpl.nasa.gov/data/mro/mars_reconnaissance_orbiter/ctx/mrox_2498/data/F23_044876_1800_XN_00S359W.IMG' already downloaded\n",
      "File './data/MRO/CTX/EDR/F23_044876_1800_XN_00S359W.IMG.jpeg' from 'https://pds-imaging.jpl.nasa.gov/data/mro/mars_reconnaissance_orbiter/ctx/mrox_2498/extras/browse/F23_044876_1800_XN_00S359W.IMG.jpeg' already downloaded\n"
     ]
    }
   ],
   "source": [
    "ode_prods.download('URL', 'file_path', path='./data/{ihid}/{iid}/{pt}', make_dirs=True)"
   ]
  },
  {
   "cell_type": "code",
   "execution_count": 5,
   "metadata": {},
   "outputs": [
    {
     "data": {
      "text/plain": [
       "'download_ctx.geojson'"
      ]
     },
     "execution_count": 5,
     "metadata": {},
     "output_type": "execute_result"
    }
   ],
   "source": [
    "download_db = f'download_{dataset}.geojson'\n",
    "\n",
    "ode_prods.to_geojson(download_db)"
   ]
  },
  {
   "cell_type": "markdown",
   "metadata": {},
   "source": [
    "## Download HiRISE data"
   ]
  },
  {
   "cell_type": "code",
   "execution_count": 6,
   "metadata": {},
   "outputs": [],
   "source": [
    "reload(sources)\n",
    "\n",
    "dataset = 'hirise'"
   ]
  },
  {
   "cell_type": "code",
   "execution_count": 7,
   "metadata": {},
   "outputs": [],
   "source": [
    "ode_prods = sources.from_geojson(f'search_{dataset}.geojson')"
   ]
  },
  {
   "cell_type": "code",
   "execution_count": 8,
   "metadata": {},
   "outputs": [
    {
     "name": "stdout",
     "output_type": "stream",
     "text": [
      "File './data/MRO/HIRISE/RDRV11/PSP_007361_1800_RED.JP2' from 'https://hirise.lpl.arizona.edu/PDS/RDR/PSP/ORB_007300_007399/PSP_007361_1800/PSP_007361_1800_RED.JP2' already downloaded\n",
      "File './data/MRO/HIRISE/RDRV11/PSP_007361_1800_RED.LBL' from 'https://hirise.lpl.arizona.edu/PDS/RDR/PSP/ORB_007300_007399/PSP_007361_1800/PSP_007361_1800_RED.LBL' already downloaded\n",
      "File './data/MRO/HIRISE/RDRV11/ESP_023817_1800_RED.JP2' from 'https://hirise.lpl.arizona.edu/PDS/RDR/ESP/ORB_023800_023899/ESP_023817_1800/ESP_023817_1800_RED.JP2' already downloaded\n",
      "File './data/MRO/HIRISE/RDRV11/ESP_023817_1800_RED.LBL' from 'https://hirise.lpl.arizona.edu/PDS/RDR/ESP/ORB_023800_023899/ESP_023817_1800/ESP_023817_1800_RED.LBL' already downloaded\n",
      "File './data/MRO/HIRISE/RDRV11/ESP_041909_1800_RED.JP2' from 'https://hirise.lpl.arizona.edu/PDS/RDR/ESP/ORB_041900_041999/ESP_041909_1800/ESP_041909_1800_RED.JP2' already downloaded\n",
      "File './data/MRO/HIRISE/RDRV11/ESP_041909_1800_RED.LBL' from 'https://hirise.lpl.arizona.edu/PDS/RDR/ESP/ORB_041900_041999/ESP_041909_1800/ESP_041909_1800_RED.LBL' already downloaded\n"
     ]
    }
   ],
   "source": [
    "ode_prods.download('URL', 'file_path', path='./data/{ihid}/{iid}/{pt}', make_dirs=True)"
   ]
  },
  {
   "cell_type": "code",
   "execution_count": 9,
   "metadata": {},
   "outputs": [
    {
     "data": {
      "text/plain": [
       "'download_hirise.geojson'"
      ]
     },
     "execution_count": 9,
     "metadata": {},
     "output_type": "execute_result"
    }
   ],
   "source": [
    "ode_prods.to_geojson(f'download_{dataset}.geojson')"
   ]
  },
  {
   "cell_type": "markdown",
   "metadata": {},
   "source": [
    "## Download HRSC data"
   ]
  },
  {
   "cell_type": "code",
   "execution_count": 10,
   "metadata": {},
   "outputs": [
    {
     "data": {
      "text/plain": [
       "<module 'gpt.download.sources' from '/Users/chbrandt/Coisas/repos/GMAP/gpt/gpt/download/sources.py'>"
      ]
     },
     "execution_count": 10,
     "metadata": {},
     "output_type": "execute_result"
    }
   ],
   "source": [
    "reload(sources)"
   ]
  },
  {
   "cell_type": "code",
   "execution_count": 11,
   "metadata": {},
   "outputs": [],
   "source": [
    "dataset = 'hrsc'"
   ]
  },
  {
   "cell_type": "code",
   "execution_count": 12,
   "metadata": {},
   "outputs": [],
   "source": [
    "ode_prods = sources.from_geojson(f'search_{dataset}.geojson')"
   ]
  },
  {
   "cell_type": "code",
   "execution_count": 13,
   "metadata": {},
   "outputs": [
    {
     "name": "stdout",
     "output_type": "stream",
     "text": [
      "File './data/MEX/HRSC/REFDR3/h1998_0000_nd3.jp2' from 'https://pds-geosciences.wustl.edu/mex/mex-m-hrsc-5-refdr-mapprojected-v3/mexhrs_1003/data/1998/h1998_0000_nd3.jp2' already downloaded\n",
      "--> Downloading file ./data/MEX/HRSC/REFDR3/h1998_0000_nd3.lbl ..\n",
      "--> File downloaded.\n",
      "File './data/MEX/HRSC/REFDR3/ha482_0000_nd3.jp2' from 'https://pds-geosciences.wustl.edu/mex/mex-m-hrsc-5-refdr-mapprojected-v3/mexhrs_1003/data/a482/ha482_0000_nd3.jp2' already downloaded\n",
      "--> Downloading file ./data/MEX/HRSC/REFDR3/ha482_0000_nd3.lbl ..\n",
      "--> File downloaded.\n"
     ]
    }
   ],
   "source": [
    "ode_prods.download('URL', 'file_path', path='./data/{ihid}/{iid}/{pt}', make_dirs=True)"
   ]
  },
  {
   "cell_type": "code",
   "execution_count": 14,
   "metadata": {},
   "outputs": [
    {
     "data": {
      "text/plain": [
       "'download_hrsc.geojson'"
      ]
     },
     "execution_count": 14,
     "metadata": {},
     "output_type": "execute_result"
    }
   ],
   "source": [
    "ode_prods.to_geojson(f'download_{dataset}.geojson')"
   ]
  }
 ],
 "metadata": {
  "kernelspec": {
   "display_name": "Python 3",
   "language": "python",
   "name": "python3"
  },
  "language_info": {
   "codemirror_mode": {
    "name": "ipython",
    "version": 3
   },
   "file_extension": ".py",
   "mimetype": "text/x-python",
   "name": "python",
   "nbconvert_exporter": "python",
   "pygments_lexer": "ipython3",
   "version": "3.7.10"
  }
 },
 "nbformat": 4,
 "nbformat_minor": 4
}
